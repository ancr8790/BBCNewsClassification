{
 "cells": [
  {
   "cell_type": "code",
   "execution_count": 79,
   "source": [
    "# importing all the required libraries\n",
    "import numpy as np\n",
    "import matplotlib.pyplot as plt\n",
    "%matplotlib inline\n",
    "import pandas as pd\n",
    "\n",
    "import seaborn as sns\n",
    "\n",
    "import warnings\n",
    "warnings.filterwarnings(\"ignore\")\n",
    "import os\n",
    "import pickle\n",
    "import gzip\n",
    "\n",
    "\n",
    "import re\n",
    "import itertools as it\n",
    "\n",
    "import nltk\n",
    "#nltk.download('stopwords')\n",
    "#nltk.download('punkt')\n",
    "#nltk.download('wordnet')\n",
    "import nltk.corpus\n",
    "from nltk.corpus import stopwords\n",
    "from nltk.tokenize import word_tokenize\n",
    "from nltk.stem import WordNetLemmatizer\n",
    "from string import digits\n",
    "\n",
    "from sklearn.feature_extraction.text import TfidfVectorizer, CountVectorizer\n",
    "from sklearn.decomposition import NMF\n",
    "from sklearn.metrics import accuracy_score\n",
    "import sklearn.metrics as metrics\n",
    "from sklearn.model_selection import ParameterGrid\n"
   ],
   "outputs": [],
   "metadata": {}
  },
  {
   "cell_type": "code",
   "execution_count": 18,
   "source": [
    "os.getcwd()\n",
    "#os.chdir(\"C:/Users/andreacruz/Documents/University of Colorado, Boulder MSDS/Machine Learning/Unsupervised Learning/Week 4\")"
   ],
   "outputs": [
    {
     "output_type": "execute_result",
     "data": {
      "text/plain": [
       "'/Users/andreacruz/Documents/University of Colorado, Boulder MSDS/Machine Learning/Unsupervised Learning/Week 4'"
      ]
     },
     "metadata": {},
     "execution_count": 18
    }
   ],
   "metadata": {}
  },
  {
   "cell_type": "code",
   "execution_count": 67,
   "source": [
    "#Import data from csv file\n",
    "BBC_train = pd.read_csv('BBC News Train.csv')\n",
    "BBC_test = pd.read_csv('BBC News Test.csv')\n",
    "\n",
    "print(BBC_train.head(10))\n",
    "print(BBC_test.head(10))"
   ],
   "outputs": [
    {
     "output_type": "stream",
     "name": "stdout",
     "text": [
      "   ArticleId                                               Text       Category\n",
      "0       1833  worldcom ex-boss launches defence lawyers defe...       business\n",
      "1        154  german business confidence slides german busin...       business\n",
      "2       1101  bbc poll indicates economic gloom citizens in ...       business\n",
      "3       1976  lifestyle  governs mobile choice  faster  bett...           tech\n",
      "4        917  enron bosses in $168m payout eighteen former e...       business\n",
      "5       1582  howard  truanted to play snooker  conservative...       politics\n",
      "6        651  wales silent on grand slam talk rhys williams ...          sport\n",
      "7       1797  french honour for director parker british film...  entertainment\n",
      "8       2034  car giant hit by mercedes slump a slump in pro...       business\n",
      "9       1866  fockers fuel festive film chart comedy meet th...  entertainment\n",
      "   ArticleId                                               Text\n",
      "0       1018  qpr keeper day heads for preston queens park r...\n",
      "1       1319  software watching while you work software that...\n",
      "2       1138  d arcy injury adds to ireland woe gordon d arc...\n",
      "3        459  india s reliance family feud heats up the ongo...\n",
      "4       1020  boro suffer morrison injury blow middlesbrough...\n",
      "5         51  lewsey puzzle over disallowed try england s jo...\n",
      "6       2025  blair blasts tory spending plans tony blair ha...\n",
      "7       1479  former ni minister scott dies former northern ...\n",
      "8         27  career honour for actor dicaprio actor leonard...\n",
      "9        397  tsunami  to hit sri lanka banks  sri lanka s b...\n"
     ]
    }
   ],
   "metadata": {}
  },
  {
   "cell_type": "code",
   "execution_count": 20,
   "source": [
    "#determine how much Training data we are dealing with\n",
    "print(\"Shape of training dataframe is\", BBC_train.shape)\n",
    "print(\"Shape of testing dataframe is\", BBC_test.shape)\n",
    "print(\"Unique values of 'Category':\",pd.unique(BBC_train.Category))"
   ],
   "outputs": [
    {
     "output_type": "stream",
     "name": "stdout",
     "text": [
      "Shape of training dataframe is (1490, 3)\n",
      "Shape of testing dataframe is (735, 2)\n",
      "Unique values of 'Category': ['business' 'tech' 'politics' 'sport' 'entertainment']\n"
     ]
    }
   ],
   "metadata": {}
  },
  {
   "cell_type": "code",
   "execution_count": 21,
   "source": [
    "#check data for N/A values\n",
    "print(BBC_train.isnull().sum(),BBC_test.isnull().sum())"
   ],
   "outputs": [
    {
     "output_type": "stream",
     "name": "stdout",
     "text": [
      "ArticleId    0\n",
      "Text         0\n",
      "Category     0\n",
      "dtype: int64 ArticleId    0\n",
      "Text         0\n",
      "dtype: int64\n"
     ]
    }
   ],
   "metadata": {}
  },
  {
   "cell_type": "code",
   "execution_count": 22,
   "source": [
    "#look at stats of dataframe\n",
    "print(BBC_train.describe())\n",
    "print(BBC_train.info())"
   ],
   "outputs": [
    {
     "output_type": "stream",
     "name": "stdout",
     "text": [
      "         ArticleId\n",
      "count  1490.000000\n",
      "mean   1119.696644\n",
      "std     641.826283\n",
      "min       2.000000\n",
      "25%     565.250000\n",
      "50%    1112.500000\n",
      "75%    1680.750000\n",
      "max    2224.000000\n",
      "<class 'pandas.core.frame.DataFrame'>\n",
      "RangeIndex: 1490 entries, 0 to 1489\n",
      "Data columns (total 3 columns):\n",
      " #   Column     Non-Null Count  Dtype \n",
      "---  ------     --------------  ----- \n",
      " 0   ArticleId  1490 non-null   int64 \n",
      " 1   Text       1490 non-null   object\n",
      " 2   Category   1490 non-null   object\n",
      "dtypes: int64(1), object(2)\n",
      "memory usage: 35.0+ KB\n",
      "None\n"
     ]
    }
   ],
   "metadata": {}
  },
  {
   "cell_type": "code",
   "execution_count": 23,
   "source": [
    "BBC_train_cat = BBC_train['Category'].value_counts()\n"
   ],
   "outputs": [],
   "metadata": {}
  },
  {
   "cell_type": "code",
   "execution_count": 24,
   "source": [
    "#see distribution of article categories\n",
    "dist_pie = BBC_train_cat.plot(kind = 'pie',figsize = (13,13),title = \"Distribution of Article Categories\", \n",
    "    autopct='%.1f%%', subplots = 'True',fontsize = 48)\n",
    "#plt.savefig('Distribution_valid_fraud_ccc.png')"
   ],
   "outputs": [
    {
     "output_type": "display_data",
     "data": {
      "text/plain": [
       "<Figure size 936x936 with 1 Axes>"
      ],
      "image/png": "[encoded data removed]"
     },
     "metadata": {}
    }
   ],
   "metadata": {}
  },
  {
   "cell_type": "code",
   "execution_count": 25,
   "source": [
    "#preview text formats\n",
    "print(BBC_train.Text[5])"
   ],
   "outputs": [
    {
     "output_type": "stream",
     "name": "stdout",
     "text": [
      "howard  truanted to play snooker  conservative leader michael howard has admitted he used to play truant to spend time with his school friends at a snooker hall.  mr howard said his time at jack s snooker hall in llanelli in the 1950s had not done him  any lasting damage . but he told the times educational supplement that truancy was  very bad  and said  firm action  was needed. mr howard also called for a return to o-levels and more classroom discipline.  mr howard eventually left llanelli grammar school - and the snooker hall - to go to cambridge university. he said:  i don t think it s done me any lasting damage. nor has it made me a snooker world champion.  there might have been some occasions when we left early of an afternoon.   i m just being honest. i think truancy is a very bad thing and that firm action should be taken to deal with it.  another player who has failed to win snooker s world championship - jimmy  the whirlwind   white - has previously admitted missing lessons  instead spending his days in smoky halls.  tony meo [another player] and me used to spend all of our spare time there   mr white said   we loved the game and the atmosphere.  school went out of the window. i went for a while and then started taking time off.  mr howard s fellow welshman ray reardon - known by his fellow professionals as  dracula  - won the snooker world championship six times  having left school at 14 to work as a miner. and terry griffiths  like mr howard from llanelli  won the tournament in 1979. it is not known whether the two of them ever clashed cues at jack s.\n"
     ]
    }
   ],
   "metadata": {}
  },
  {
   "cell_type": "code",
   "execution_count": 41,
   "source": [
    "#lets remove punctuation, numbers, stop words, extra spaces\n",
    "def cleanup_text(dataframe, text_col):\n",
    "    #remove punctuation\n",
    "    dataframe['clean_text'] = dataframe[text_col].apply(lambda item: re.sub(r'[^\\w\\s]+', '',item))\n",
    "    #remove numbers\n",
    "    dataframe['clean_text'] = dataframe['clean_text'].apply(lambda item: re.sub(r'[0-9]+', '',item))\n",
    "    #remove stop words\n",
    "    stop_words = stopwords.words('english')\n",
    "    dataframe['clean_text'] = dataframe['clean_text'].apply(lambda item: \" \".join([x for x in item.split() if x not in stop_words]))\n",
    "    #remove extra spaces\n",
    "    dataframe['clean_text'] = dataframe['clean_text'].apply(lambda item: re.sub(' +', ' ', item))\n",
    "\n",
    "    return dataframe\n",
    "    "
   ],
   "outputs": [],
   "metadata": {}
  },
  {
   "cell_type": "code",
   "execution_count": 68,
   "source": [
    "BBC_train = cleanup_text(BBC_train, 'Text')\n",
    "print(BBC_train.clean_text[5])"
   ],
   "outputs": [
    {
     "output_type": "stream",
     "name": "stdout",
     "text": [
      "howard truanted play snooker conservative leader michael howard admitted used play truant spend time school friends snooker hall mr howard said time jack snooker hall llanelli done lasting damage told times educational supplement truancy bad said firm action needed mr howard also called return olevels classroom discipline mr howard eventually left llanelli grammar school snooker hall go cambridge university said think done lasting damage made snooker world champion might occasions left early afternoon honest think truancy bad thing firm action taken deal another player failed win snooker world championship jimmy whirlwind white previously admitted missing lessons instead spending days smoky halls tony meo another player used spend spare time mr white said loved game atmosphere school went window went started taking time mr howard fellow welshman ray reardon known fellow professionals dracula snooker world championship six times left school work miner terry griffiths like mr howard llanelli tournament known whether two ever clashed cues jack\n"
     ]
    }
   ],
   "metadata": {}
  },
  {
   "cell_type": "code",
   "execution_count": 29,
   "source": [
    "#now lets tokenize and lemmatizer\n",
    "lemm = WordNetLemmatizer()\n",
    "\n",
    "def lemmenatize(text):\n",
    "    lem = [lemm.lemmatize(item) for item in text] \n",
    "    return lem\n",
    "\n",
    "def tokenize_lemmenatize(dataframe, text_col):\n",
    "    #tokenize\n",
    "    dataframe['tockenize'] = dataframe.apply(lambda row: nltk.word_tokenize(row[text_col]), axis=1)\n",
    "    #lemmatize\n",
    "    dataframe['lemmatize'] = dataframe['tockenize'].apply(lambda item: lemmenatize(item))\n",
    "    #sort alphabetically\n",
    "    dataframe['lemmatize'] = dataframe['lemmatize'].apply(lambda item: sorted(item))\n",
    "    #count number of words in string\n",
    "    dataframe['num_words'] = dataframe['lemmatize'].apply(lambda strings: len(strings))\n",
    "\n",
    "    return dataframe"
   ],
   "outputs": [],
   "metadata": {}
  },
  {
   "cell_type": "code",
   "execution_count": 69,
   "source": [
    "BBC_train = tokenize_lemmenatize(BBC_train, 'clean_text')\n",
    "print(BBC_train['lemmatize'])"
   ],
   "outputs": [
    {
     "output_type": "stream",
     "name": "stdout",
     "text": [
      "0       [accounting, accounting, accounting, accountin...\n",
      "1       [activity, analyst, bank, bank, bernd, busines...\n",
      "2       [absorbed, across, ago, almost, also, also, al...\n",
      "3       [able, across, activity, advisor, ageing, ago,...\n",
      "4       [action, action, added, adding, admit, ago, ag...\n",
      "                              ...                        \n",
      "1485    [actor, actress, afterwards, although, announc...\n",
      "1486    [act, act, add, adding, addition, advantage, a...\n",
      "1487    [added, adding, adding, aimed, also, also, bac...\n",
      "1488    [according, according, according, added, added...\n",
      "1489    [across, address, affected, announcing, appear...\n",
      "Name: lemmatize, Length: 1490, dtype: object\n"
     ]
    }
   ],
   "metadata": {}
  },
  {
   "cell_type": "code",
   "execution_count": 33,
   "source": [
    "#plot distribution of word count per article\n",
    "fig, ax = plt.subplots(figsize =(10, 7))\n",
    "n_bins = 35\n",
    "ax.hist(BBC_train.num_words, bins = n_bins)\n",
    "\n",
    "plt.xlabel(\"Word Count\")\n",
    "plt.ylabel(\"Article Count\")\n",
    "plt.title('Distribution of Word Count per Article in Training Dataset')\n",
    "\n",
    "plt.show()\n",
    "#couple of outliers that may want to be removed so as not to skew model building moving forward (>600?)"
   ],
   "outputs": [
    {
     "output_type": "display_data",
     "data": {
      "text/plain": [
       "<Figure size 720x504 with 1 Axes>"
      ],
      "image/png": "[encoded data removed]"
     },
     "metadata": {
      "needs_background": "light"
     }
    }
   ],
   "metadata": {}
  },
  {
   "cell_type": "code",
   "execution_count": 70,
   "source": [
    "#remove outliers from training dataset\n",
    "print(round((len(BBC_train[BBC_train['num_words'] > 600])/len(BBC_train))*100,2),'% of dataset have > 600 word counts per article')\n",
    "print(\"length of full dataset\",len(BBC_train))\n",
    "BBC_train = BBC_train[BBC_train['num_words'] < 600]\n",
    "#confirm outliers were dropped\n",
    "print(\"length of reduced dataset\",len(BBC_train))\n"
   ],
   "outputs": [
    {
     "output_type": "stream",
     "name": "stdout",
     "text": [
      "0.74 % of dataset have > 600 word counts per article\n",
      "length of full dataset 1490\n",
      "length of reduced dataset 1479\n"
     ]
    }
   ],
   "metadata": {}
  },
  {
   "cell_type": "code",
   "execution_count": null,
   "source": [
    "#show boxplot of words per article in each category"
   ],
   "outputs": [],
   "metadata": {}
  },
  {
   "cell_type": "code",
   "execution_count": 47,
   "source": [
    "#function to predict category of article based on factorization\n",
    "def predict(NMFmatrix):\n",
    "    #sort values in matrix along each row in ascending order & return indices of values in sorted order\n",
    "    #print(\"unsorted\",NMFmatrix[5:7])\n",
    "    sortedNMF = np.argsort(NMFmatrix)\n",
    "    #print(\"sorted\", sortedNMF[5:7])\n",
    "    n_predictions, maxValue = sortedNMF.shape\n",
    "    #print('n_predictions',n_predictions, 'maxValue', maxValue)\n",
    "    #create 2D list with column index of the highest weight value for each row\n",
    "    predictions = [[sortedNMF[i][maxValue - 1]] for i in range(n_predictions)]\n",
    "    #print(\"predictions\",predictions[5:7])\n",
    "    topics = np.empty(n_predictions, dtype = np.int64)\n",
    "    #extract single predicted topic(largest column index) for each row\n",
    "    for i in range(n_predictions):\n",
    "        topics[i] = predictions[i][0]\n",
    "    #print(\"topics\",topics[5:7])\n",
    "    return topics"
   ],
   "outputs": [],
   "metadata": {}
  },
  {
   "cell_type": "code",
   "execution_count": 48,
   "source": [
    "def label_permute_compare(ytdf,yp, n = 5):\n",
    "    \"\"\"\n",
    "    ytdf: Training data\n",
    "    yp: clustering label prediction output\n",
    "    Returns best permuted label order and accuracy. \n",
    "    Example output: (3, 4, 1, 2, 0), 0.88 \n",
    "    \"\"\"\n",
    "# your code here\n",
    "\n",
    "    perm = list(it.permutations(range(0,n),n))\n",
    "    ytdf_lab = ['business', 'tech', 'politics', 'sport', 'entertainment']\n",
    "    #print(ytdf_lab)\n",
    "\n",
    "    best_perm = []\n",
    "    score = 0\n",
    "    for i in perm:\n",
    "        dict = {}\n",
    "        for j in range(len(i)):\n",
    "            dict[ytdf_lab[j]] = i[j]\n",
    "        #print(dict)\n",
    "\n",
    "        testing = pd.DataFrame(ytdf['Category']).replace(dict)\n",
    "\n",
    "        curr_acc = accuracy_score(testing,yp)\n",
    "        if curr_acc > score:\n",
    "            score = curr_acc\n",
    "            best_perm = i\n",
    "\n",
    "\n",
    "    return(best_perm, score)"
   ],
   "outputs": [],
   "metadata": {}
  },
  {
   "cell_type": "code",
   "execution_count": 71,
   "source": [
    "#vectorizer\n",
    "tfv = TfidfVectorizer(min_df = 0, max_df = 0.85, norm = 'l2', stop_words = 'english')\n",
    "tfv_tot = tfv.fit_transform(BBC_train['clean_text'])\n",
    "tfv_train = tfv_tot[:1479,:]\n",
    "\n",
    "cv = CountVectorizer(min_df = 0, max_df = 0.85, stop_words = 'english')\n",
    "cv_train= cv.fit_transform(BBC_train['clean_text'])\n",
    "\n",
    "#model\n",
    "nmf_model = NMF(n_components = 5, init = 'nndsvd', solver = 'cd',beta_loss = 'frobenius', l1_ratio = 0.5)\n",
    "nmf_model.fit(tfv_train)\n",
    "\n",
    "y_train = predict(nmf_model.transform(tfv_train))\n",
    "label_order, acc =  label_permute_compare(BBC_train,y_train)\n",
    "print('accuracy =', acc, \"\\nlabel_order\", label_order)\n",
    "\n",
    "\n"
   ],
   "outputs": [
    {
     "output_type": "stream",
     "name": "stdout",
     "text": [
      "accuracy = 0.9161595672751859 \n",
      "label_order (4, 2, 1, 0, 3)\n"
     ]
    }
   ],
   "metadata": {}
  },
  {
   "cell_type": "code",
   "execution_count": 72,
   "source": [
    "#testing CV vectorizer & tuning hyper parameters\n",
    "nmf_cv_mod = NMF(n_components = 5, \n",
    "                init = 'nndsvda', \n",
    "                solver = 'mu',\n",
    "                beta_loss = 'kullback-leibler', \n",
    "                l1_ratio = 0.5,\n",
    "                random_state = 123)\n",
    "nmf_cv_mod.fit(cv_train)\n",
    "\n",
    "y_train = predict(nmf_cv_mod.transform(cv_train))\n",
    "cv_label_order, cv_acc =  label_permute_compare(BBC_train,y_train)\n",
    "print('accuracy =', cv_acc, \"\\nlabel_order\", cv_label_order)\n",
    "#able to get to reasonable accuracy But takes longer"
   ],
   "outputs": [
    {
     "output_type": "stream",
     "name": "stdout",
     "text": [
      "accuracy = 0.9296822177146721 \n",
      "label_order (0, 3, 1, 4, 2)\n"
     ]
    }
   ],
   "metadata": {}
  },
  {
   "cell_type": "code",
   "execution_count": 92,
   "source": [
    "#tuning TFID hyperparameters\n",
    "tfv = TfidfVectorizer(min_df = 2, \n",
    "                    max_df = 0.95, \n",
    "                    norm = 'l2', \n",
    "                    stop_words = 'english')\n",
    "tfv_train= tfv.fit_transform(BBC_train['clean_text'])\n",
    "#tuing of vectorizer not as impactful as model parameters\n",
    "\n",
    "nmf_model = NMF(n_components = 5, \n",
    "                init = 'nndsvda', \n",
    "                solver = 'mu',\n",
    "                beta_loss = 'kullback-leibler', \n",
    "                l1_ratio = 0.5,\n",
    "                random_state= 123)\n",
    "nmf_model.fit(tfv_train)\n",
    "\n",
    "y_train = predict(nmf_model.transform(tfv_train))\n",
    "label_order, acc =  label_permute_compare(BBC_train,y_train)\n",
    "print('accuracy =', acc, \"\\nlabel_order\", label_order)\n",
    "\n"
   ],
   "outputs": [],
   "metadata": {}
  },
  {
   "cell_type": "code",
   "execution_count": null,
   "source": [],
   "outputs": [],
   "metadata": {}
  },
  {
   "cell_type": "code",
   "execution_count": 83,
   "source": [
    "#iterate through possible parameters to find best combo\n",
    "nmf_param_grid = {\"init\": [\"nndsvdar\", \"nndsvd\"],\n",
    "                  \"solver\": [\"mu\"],\n",
    "                  \"beta_loss\": [\"kullback-leibler\"],\n",
    "                  \"alpha_W\" : [0, 1.0],\n",
    "                  \"alpha_H\" : [0, 0.5, 1.0],\n",
    "                  \"l1_ratio\" : [0, 0.5, 1.0]}\n",
    "records = {k:list() for k, v in nmf_param_grid.items()}\n",
    "records[\"accuracy\"] = list()\n",
    "max_nmf_acc, best_nmf_clf = 0, None\n",
    "for params in ParameterGrid(nmf_param_grid):\n",
    "    clf = NMF(n_components=5, max_iter=1000, **params).fit(tfv_train, y_train)\n",
    "    for k, v in params.items():\n",
    "        records[k].append(v)\n",
    "    y_train_pred = predict(clf.transform(tfv_train))\n",
    "    label_order, acc =  label_permute_compare(BBC_train,y_train_pred)\n",
    "    #acc = np.mean(y_train==y_train_pred)\n",
    "    records[\"accuracy\"].append(acc)\n",
    "    if (acc > max_nmf_acc):\n",
    "        max_nmf_acc, best_nmf_clf = acc, clf\n",
    "\n",
    "max_nmf_acc, best_nmf_clf"
   ],
   "outputs": [
    {
     "output_type": "execute_result",
     "data": {
      "text/plain": [
       "(0.9594320486815415,\n",
       " NMF(alpha_H=1.0, alpha_W=0, beta_loss='kullback-leibler', init='nndsvdar',\n",
       "     l1_ratio=0, max_iter=1000, n_components=5, solver='mu'))"
      ]
     },
     "metadata": {},
     "execution_count": 83
    }
   ],
   "metadata": {}
  },
  {
   "cell_type": "code",
   "execution_count": 84,
   "source": [
    "y_train = predict(best_nmf_clf.transform(tfv_train))\n",
    "label_order, acc =  label_permute_compare(BBC_train,y_train)\n",
    "print('accuracy =', acc, \"\\nlabel_order\", label_order)"
   ],
   "outputs": [
    {
     "output_type": "stream",
     "name": "stdout",
     "text": [
      "accuracy = 0.9594320486815415 \n",
      "label_order (4, 2, 1, 0, 3)\n"
     ]
    }
   ],
   "metadata": {}
  },
  {
   "cell_type": "code",
   "execution_count": 85,
   "source": [
    "#print label assignments\n",
    "label_dict = {}\n",
    "cats = ['business', 'tech', 'politics', 'sport', 'entertainment']\n",
    "for i in range(5):\n",
    "    label_dict[label_order[i]] = cats[i]\n",
    "\n",
    "# cv_label_dict = {}\n",
    "# cats = ['business', 'tech', 'politics', 'sport', 'entertainment']\n",
    "# for i in range(5):\n",
    "#     cv_label_dict[cv_label_order[i]] = cats[i]\n",
    "\n",
    "print(label_dict)#,'\\n',cv_label_dict)\n"
   ],
   "outputs": [
    {
     "output_type": "stream",
     "name": "stdout",
     "text": [
      "{4: 'business', 2: 'tech', 1: 'politics', 0: 'sport', 3: 'entertainment'}\n"
     ]
    }
   ],
   "metadata": {}
  },
  {
   "cell_type": "code",
   "execution_count": 86,
   "source": [
    "#prep test dataset\n",
    "BBC_test = cleanup_text(BBC_test, 'Text')\n",
    "\n",
    "#cv_test= cv.fit_transform(BBC_test['clean_text'])\n",
    "tfv_test= tfv.fit_transform(BBC_test['clean_text'])\n",
    "\n",
    "#nmf_cv_mod.fit(cv_test)\n",
    "best_nmf_clf.fit(tfv_test)\n",
    "\n",
    "#cv_y_test = predict(nmf_cv_mod.transform(cv_test))\n",
    "y_test = predict(best_nmf_clf.transform(tfv_test))\n",
    "\n"
   ],
   "outputs": [],
   "metadata": {}
  },
  {
   "cell_type": "code",
   "execution_count": 87,
   "source": [
    "# #create new dataframe to submit to competition (cv)\n",
    "# test_pred_cv = pd.DataFrame(columns = ['ArticleId','Category','cv_y'])\n",
    "# test_pred_cv['ArticleId'] = BBC_test['ArticleId']\n",
    "# test_pred_cv['cv_y'] = cv_y_test\n",
    "# test_pred_cv['Category'] = test_pred_cv['cv_y'].map(cv_label_dict)\n",
    "\n",
    "# test_pred_cv = test_pred_cv.drop('cv_y', axis = 1)\n",
    "# test_pred_cv.head(10)"
   ],
   "outputs": [
    {
     "output_type": "execute_result",
     "data": {
      "text/plain": [
       "   ArticleId       Category\n",
       "0       1018          sport\n",
       "1       1319  entertainment\n",
       "2       1138          sport\n",
       "3        459       business\n",
       "4       1020          sport\n",
       "5         51          sport\n",
       "6       2025           tech\n",
       "7       1479           tech\n",
       "8         27       politics\n",
       "9        397       business"
      ],
      "text/html": [
       "<div>\n",
       "<style scoped>\n",
       "    .dataframe tbody tr th:only-of-type {\n",
       "        vertical-align: middle;\n",
       "    }\n",
       "\n",
       "    .dataframe tbody tr th {\n",
       "        vertical-align: top;\n",
       "    }\n",
       "\n",
       "    .dataframe thead th {\n",
       "        text-align: right;\n",
       "    }\n",
       "</style>\n",
       "<table border=\"1\" class=\"dataframe\">\n",
       "  <thead>\n",
       "    <tr style=\"text-align: right;\">\n",
       "      <th></th>\n",
       "      <th>ArticleId</th>\n",
       "      <th>Category</th>\n",
       "    </tr>\n",
       "  </thead>\n",
       "  <tbody>\n",
       "    <tr>\n",
       "      <th>0</th>\n",
       "      <td>1018</td>\n",
       "      <td>sport</td>\n",
       "    </tr>\n",
       "    <tr>\n",
       "      <th>1</th>\n",
       "      <td>1319</td>\n",
       "      <td>entertainment</td>\n",
       "    </tr>\n",
       "    <tr>\n",
       "      <th>2</th>\n",
       "      <td>1138</td>\n",
       "      <td>sport</td>\n",
       "    </tr>\n",
       "    <tr>\n",
       "      <th>3</th>\n",
       "      <td>459</td>\n",
       "      <td>business</td>\n",
       "    </tr>\n",
       "    <tr>\n",
       "      <th>4</th>\n",
       "      <td>1020</td>\n",
       "      <td>sport</td>\n",
       "    </tr>\n",
       "    <tr>\n",
       "      <th>5</th>\n",
       "      <td>51</td>\n",
       "      <td>sport</td>\n",
       "    </tr>\n",
       "    <tr>\n",
       "      <th>6</th>\n",
       "      <td>2025</td>\n",
       "      <td>tech</td>\n",
       "    </tr>\n",
       "    <tr>\n",
       "      <th>7</th>\n",
       "      <td>1479</td>\n",
       "      <td>tech</td>\n",
       "    </tr>\n",
       "    <tr>\n",
       "      <th>8</th>\n",
       "      <td>27</td>\n",
       "      <td>politics</td>\n",
       "    </tr>\n",
       "    <tr>\n",
       "      <th>9</th>\n",
       "      <td>397</td>\n",
       "      <td>business</td>\n",
       "    </tr>\n",
       "  </tbody>\n",
       "</table>\n",
       "</div>"
      ]
     },
     "metadata": {},
     "execution_count": 87
    }
   ],
   "metadata": {}
  },
  {
   "cell_type": "code",
   "execution_count": 88,
   "source": [
    "#create new dataframe to submit to competition\n",
    "test_pred = pd.DataFrame(columns = ['ArticleId','Category','y'])\n",
    "test_pred['ArticleId'] = BBC_test['ArticleId']\n",
    "test_pred['y'] = y_test\n",
    "test_pred['Category'] = test_pred['y'].map(label_dict)\n",
    "\n",
    "test_pred= test_pred.drop('y', axis = 1)\n",
    "test_pred.head(10)"
   ],
   "outputs": [
    {
     "output_type": "execute_result",
     "data": {
      "text/plain": [
       "   ArticleId       Category\n",
       "0       1018          sport\n",
       "1       1319  entertainment\n",
       "2       1138          sport\n",
       "3        459           tech\n",
       "4       1020          sport\n",
       "5         51          sport\n",
       "6       2025       politics\n",
       "7       1479       politics\n",
       "8         27       business\n",
       "9        397           tech"
      ],
      "text/html": [
       "<div>\n",
       "<style scoped>\n",
       "    .dataframe tbody tr th:only-of-type {\n",
       "        vertical-align: middle;\n",
       "    }\n",
       "\n",
       "    .dataframe tbody tr th {\n",
       "        vertical-align: top;\n",
       "    }\n",
       "\n",
       "    .dataframe thead th {\n",
       "        text-align: right;\n",
       "    }\n",
       "</style>\n",
       "<table border=\"1\" class=\"dataframe\">\n",
       "  <thead>\n",
       "    <tr style=\"text-align: right;\">\n",
       "      <th></th>\n",
       "      <th>ArticleId</th>\n",
       "      <th>Category</th>\n",
       "    </tr>\n",
       "  </thead>\n",
       "  <tbody>\n",
       "    <tr>\n",
       "      <th>0</th>\n",
       "      <td>1018</td>\n",
       "      <td>sport</td>\n",
       "    </tr>\n",
       "    <tr>\n",
       "      <th>1</th>\n",
       "      <td>1319</td>\n",
       "      <td>entertainment</td>\n",
       "    </tr>\n",
       "    <tr>\n",
       "      <th>2</th>\n",
       "      <td>1138</td>\n",
       "      <td>sport</td>\n",
       "    </tr>\n",
       "    <tr>\n",
       "      <th>3</th>\n",
       "      <td>459</td>\n",
       "      <td>tech</td>\n",
       "    </tr>\n",
       "    <tr>\n",
       "      <th>4</th>\n",
       "      <td>1020</td>\n",
       "      <td>sport</td>\n",
       "    </tr>\n",
       "    <tr>\n",
       "      <th>5</th>\n",
       "      <td>51</td>\n",
       "      <td>sport</td>\n",
       "    </tr>\n",
       "    <tr>\n",
       "      <th>6</th>\n",
       "      <td>2025</td>\n",
       "      <td>politics</td>\n",
       "    </tr>\n",
       "    <tr>\n",
       "      <th>7</th>\n",
       "      <td>1479</td>\n",
       "      <td>politics</td>\n",
       "    </tr>\n",
       "    <tr>\n",
       "      <th>8</th>\n",
       "      <td>27</td>\n",
       "      <td>business</td>\n",
       "    </tr>\n",
       "    <tr>\n",
       "      <th>9</th>\n",
       "      <td>397</td>\n",
       "      <td>tech</td>\n",
       "    </tr>\n",
       "  </tbody>\n",
       "</table>\n",
       "</div>"
      ]
     },
     "metadata": {},
     "execution_count": 88
    }
   ],
   "metadata": {}
  },
  {
   "cell_type": "code",
   "execution_count": 89,
   "source": [
    "try: \n",
    "    test_pred.to_csv('BBCclass_submission.csv', index=False)\n",
    "    #test_pred_cv.to_csv('BBCclass_submission_cv.csv', index = False)\n",
    "except: \n",
    "    pass"
   ],
   "outputs": [],
   "metadata": {}
  },
  {
   "cell_type": "code",
   "execution_count": null,
   "source": [],
   "outputs": [],
   "metadata": {}
  }
 ],
 "metadata": {
  "orig_nbformat": 4,
  "language_info": {
   "name": "python",
   "version": "3.9.7",
   "mimetype": "text/x-python",
   "codemirror_mode": {
    "name": "ipython",
    "version": 3
   },
   "pygments_lexer": "ipython3",
   "nbconvert_exporter": "python",
   "file_extension": ".py"
  },
  "kernelspec": {
   "name": "python3",
   "display_name": "Python 3.9.7 64-bit ('base': conda)"
  },
  "interpreter": {
   "hash": "344443636c3027c5042750c9c609acdda283a9c43681b128a8c1053e7ad2aa7d"
  }
 },
 "nbformat": 4,
 "nbformat_minor": 2
}